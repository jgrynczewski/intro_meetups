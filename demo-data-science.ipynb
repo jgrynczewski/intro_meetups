{
 "cells": [
  {
   "cell_type": "markdown",
   "metadata": {
    "id": "-Gk43e4AztEQ"
   },
   "source": [
    "## Regresja liniowa"
   ]
  },
  {
   "cell_type": "code",
   "execution_count": null,
   "metadata": {
    "colab": {
     "base_uri": "https://localhost:8080/"
    },
    "id": "BKN5iYEp3X5y",
    "outputId": "7faed726-52cc-451d-cf7f-98c02ba360af"
   },
   "outputs": [],
   "source": [
    "# On Unix\n",
    "!wget https://raw.githubusercontent.com/jgrynczewski/datascience_demo/main/weights_heights.csv"
   ]
  },
  {
   "cell_type": "code",
   "execution_count": null,
   "metadata": {},
   "outputs": [],
   "source": [
    "# On Windows\n",
    "# !pip install wget\n",
    "# !python -m wget https://raw.githubusercontent.com/jgrynczewski/datascience_demo/main/weights_heights.csv"
   ]
  },
  {
   "cell_type": "markdown",
   "metadata": {
    "id": "SHsz9Xir4Ymd"
   },
   "source": [
    "# 1. Popatrzmy na dane"
   ]
  },
  {
   "cell_type": "code",
   "execution_count": null,
   "metadata": {
    "id": "U6BKVN-l4Xec"
   },
   "outputs": [],
   "source": [
    "# Import potrzebnych bibliotek\n",
    "\n",
    "import pandas as pd\n",
    "import numpy as np\n",
    "import scipy\n",
    "import matplotlib.pyplot as plt"
   ]
  },
  {
   "cell_type": "code",
   "execution_count": null,
   "metadata": {
    "colab": {
     "base_uri": "https://localhost:8080/",
     "height": 394
    },
    "id": "xRLh5hQ5A-ig",
    "outputId": "32a42ee3-fb0c-4f72-b48d-20c45bcba71c"
   },
   "outputs": [],
   "source": [
    "data = pd.read_csv('weights_heights.csv', index_col='Index')\n",
    "data.head(10)"
   ]
  },
  {
   "cell_type": "code",
   "execution_count": null,
   "metadata": {
    "colab": {
     "base_uri": "https://localhost:8080/",
     "height": 300
    },
    "id": "HZScuTT75cPZ",
    "outputId": "dc29cd6a-58b9-4e1b-bc76-753effc3c8ba"
   },
   "outputs": [],
   "source": [
    "data.describe()"
   ]
  },
  {
   "cell_type": "code",
   "execution_count": null,
   "metadata": {
    "id": "_eRyWxM-50qy"
   },
   "outputs": [],
   "source": [
    "# Wysokość przeliczamy na metry\n",
    "data[\"Height\"] = data[\"Height\"] * 0.0254"
   ]
  },
  {
   "cell_type": "code",
   "execution_count": null,
   "metadata": {
    "id": "SSqJpYWr6iY9"
   },
   "outputs": [],
   "source": [
    "# Wagę przeliczamy na kilogramy\n",
    "data[\"Weight\"] = data[\"Weight\"] * 0.4536"
   ]
  },
  {
   "cell_type": "code",
   "execution_count": null,
   "metadata": {
    "colab": {
     "base_uri": "https://localhost:8080/",
     "height": 394
    },
    "id": "OBZYOmwz6uMk",
    "outputId": "22c688df-898f-4395-d290-83ceed76fab6"
   },
   "outputs": [],
   "source": [
    "# Wyświetlamy jeszcze raz data\n",
    "data.head(10)"
   ]
  },
  {
   "cell_type": "code",
   "execution_count": null,
   "metadata": {
    "colab": {
     "base_uri": "https://localhost:8080/",
     "height": 112
    },
    "id": "-4uvToEc7IqB",
    "outputId": "efb7c3e3-11a3-4779-c45a-98f01a49b46b"
   },
   "outputs": [],
   "source": [
    "data[[\"Height\", \"Weight\"]].corr()"
   ]
  },
  {
   "cell_type": "code",
   "execution_count": null,
   "metadata": {
    "colab": {
     "base_uri": "https://localhost:8080/",
     "height": 489
    },
    "id": "p3iNCurk7qV5",
    "outputId": "73e4e00b-e41b-419a-b443-b889f9ebd9a7"
   },
   "outputs": [],
   "source": [
    "data.plot(y=\"Height\", color=\"red\", title=\"Height distribution\")"
   ]
  },
  {
   "cell_type": "code",
   "execution_count": null,
   "metadata": {
    "colab": {
     "base_uri": "https://localhost:8080/",
     "height": 489
    },
    "id": "b97UhOpn8C27",
    "outputId": "86111c25-55db-429f-ea71-694a3a04116d"
   },
   "outputs": [],
   "source": [
    "data.plot(y=\"Weight\", color=\"green\", title=\"Weight distribution\")"
   ]
  },
  {
   "cell_type": "code",
   "execution_count": null,
   "metadata": {
    "colab": {
     "base_uri": "https://localhost:8080/",
     "height": 469
    },
    "id": "ZIr7N3vD8tIw",
    "outputId": "a811c933-0c7a-4c38-edd0-e8cc185f6b61"
   },
   "outputs": [],
   "source": [
    "data.plot(y=\"Height\", kind=\"hist\", color=\"red\", title=\"Height distribution\")"
   ]
  },
  {
   "cell_type": "code",
   "execution_count": null,
   "metadata": {
    "colab": {
     "base_uri": "https://localhost:8080/",
     "height": 469
    },
    "id": "SPFXkkfc9AJm",
    "outputId": "8c0d437e-1575-4575-db2d-69d86f4f2065"
   },
   "outputs": [],
   "source": [
    "data.plot(y=\"Weight\", kind='hist', color=\"green\", title=\"Weight distribution\")"
   ]
  },
  {
   "cell_type": "code",
   "execution_count": null,
   "metadata": {
    "id": "qE4iFfMy9Qg4"
   },
   "outputs": [],
   "source": [
    "def calc_bmi(height, weight):\n",
    "  return weight / (height**2)"
   ]
  },
  {
   "cell_type": "code",
   "execution_count": null,
   "metadata": {
    "colab": {
     "base_uri": "https://localhost:8080/",
     "height": 489
    },
    "id": "huV9uJ7oCgLS",
    "outputId": "76da6bef-f007-47fe-ffbd-2abe1ba8316d"
   },
   "outputs": [],
   "source": [
    "data.plot(y='Height', x='Weight', kind='scatter', title='Height vs Weight')"
   ]
  },
  {
   "cell_type": "markdown",
   "metadata": {
    "id": "IM_3JLWyGQLB"
   },
   "source": [
    "Minimalizacja funkcji błędu"
   ]
  },
  {
   "cell_type": "code",
   "execution_count": null,
   "metadata": {
    "colab": {
     "base_uri": "https://localhost:8080/"
    },
    "id": "3kOFQ8Wx9A67",
    "outputId": "d4f49bd6-9222-433a-cafe-8b3972ea0752"
   },
   "outputs": [],
   "source": [
    "# Przygotowanie danych pod minimalizację\n",
    "# mnożenie macierzowe jako uogólnienie iloczynu skalarnego.\n",
    "\n",
    "X = np.array([(x, 1) for x in data[\"Weight\"]])  # dlaczego tak? mnożenie macierzowe\n",
    "# -> y = w1*x + w0  <=> Y = w * X, gdzie w = [w1, w0], a X = [(x0, 1), (x1, 1), ...]\n",
    "Y = data['Height']\n",
    "print(X)\n",
    "print(Y)"
   ]
  },
  {
   "cell_type": "code",
   "execution_count": null,
   "metadata": {
    "id": "A6DURwb89JQJ"
   },
   "outputs": [],
   "source": [
    "# funkcja błędu\n",
    "\n",
    "def error(w, X, Y):\n",
    "  err = Y - np.matmul(X, w)\n",
    "  return err.dot(err)"
   ]
  },
  {
   "cell_type": "code",
   "execution_count": null,
   "metadata": {
    "colab": {
     "base_uri": "https://localhost:8080/"
    },
    "id": "UijZOGGVGPX3",
    "outputId": "d1b79a7c-bd6f-4f9c-e17f-f2b8b7745fb4"
   },
   "outputs": [],
   "source": [
    "# minimalizacja\n",
    "\n",
    "# początkowy strzał\n",
    "x0 = np.array([0, 0])\n",
    "\n",
    "# scipy.optimize.minimize - minimization of scalar function of one or more variables\n",
    "\n",
    "# parameters:\n",
    "# fun: callable, the objective function to be minimized\n",
    "# x0: ndarray, shape(n,) - initial guess  - that's how the minimize function\n",
    "#                                           deduce the dimiension of the first\n",
    "#                                           parameter of the fun.\n",
    "# args: tuple (optional) - extra arguments passed to the objective function\n",
    "#                          and its derivatives\n",
    "# method str or callable - type od solver. If not given, chosen to be one\n",
    "#                          of BFGS, L-BFGS-B, SLSQP, depending on whether\n",
    "#                          or not the problem has constraints or bounds.\n",
    "# bounds - sequence or Bounce (optional)\n",
    "\n",
    "# returns:\n",
    "# res: OptimizeResult\n",
    "# The optimization result represented as a OptimizeResult object. Important\n",
    "# attributes are: x the solution array, success a Boolean flag indicating\n",
    "# if the optimizer exited successfully\n",
    "result = scipy.optimize.minimize(\n",
    "    error,\n",
    "    x0=x0,\n",
    "    args=(X, Y),\n",
    "    method='L-BFGS-B',\n",
    "    bounds=((-100, 100), (-10,10))\n",
    ")"
   ]
  },
  {
   "cell_type": "code",
   "execution_count": null,
   "metadata": {
    "colab": {
     "base_uri": "https://localhost:8080/"
    },
    "id": "1nLS_Vn9Kq6d",
    "outputId": "cbd3ed25-31f7-414f-e040-69df1e3b948d"
   },
   "outputs": [],
   "source": [
    "w1, w0 = result.x\n",
    "print(w1)\n",
    "print(w0)"
   ]
  },
  {
   "cell_type": "code",
   "execution_count": null,
   "metadata": {
    "colab": {
     "base_uri": "https://localhost:8080/",
     "height": 449
    },
    "id": "jXguoG3GJTPY",
    "outputId": "34c51024-ba7c-400d-9b31-8fdbd7933b8c"
   },
   "outputs": [],
   "source": [
    "x = np.linspace(min(data['Weight']), max(data['Weight']), 100)\n",
    "y = w0 + x * w1   # hipoteza: korelacje pomiędzy wartościami height i weight można opisać funkcją liniową (regresja liniowa)\n",
    "\n",
    "data.plot(\n",
    "    y='Height',\n",
    "    x='Weight',\n",
    "    kind='scatter'\n",
    ")\n",
    "\n",
    "plt.plot(x, y, '-r')\n",
    "plt.show()"
   ]
  },
  {
   "cell_type": "code",
   "execution_count": null,
   "metadata": {
    "colab": {
     "base_uri": "https://localhost:8080/"
    },
    "id": "m_1xQKeeMY_2",
    "outputId": "ab0485b5-58b3-4d0b-8a5e-f7c023c1d0e9"
   },
   "outputs": [],
   "source": [
    "# Przewidywanie\n",
    "\n",
    "x = 80\n",
    "y = w0 + x*w1\n",
    "print(y)"
   ]
  },
  {
   "cell_type": "code",
   "execution_count": null,
   "metadata": {
    "id": "zXm1FwKAio2r"
   },
   "outputs": [],
   "source": []
  }
 ],
 "metadata": {
  "colab": {
   "provenance": []
  },
  "kernelspec": {
   "display_name": "Python 3 (ipykernel)",
   "language": "python",
   "name": "python3"
  },
  "language_info": {
   "codemirror_mode": {
    "name": "ipython",
    "version": 3
   },
   "file_extension": ".py",
   "mimetype": "text/x-python",
   "name": "python",
   "nbconvert_exporter": "python",
   "pygments_lexer": "ipython3",
   "version": "3.11.1"
  }
 },
 "nbformat": 4,
 "nbformat_minor": 4
}
